{
 "cells": [
  {
   "cell_type": "code",
   "execution_count": 127,
   "metadata": {},
   "outputs": [],
   "source": [
    "import torch\n",
    "import torch.nn as nn\n",
    "import torch.optim as optim\n",
    "import matplotlib.pyplot as plt"
   ]
  },
  {
   "cell_type": "code",
   "execution_count": 128,
   "metadata": {},
   "outputs": [],
   "source": [
    "# Define the data\n",
    "X = torch.tensor([[0.5, -1.2, 3.3],\n",
    "                [2.1, 0.0, -0.9],\n",
    "                [1.5, 2.3, -1.7],\n",
    "                [-1.0, 1.2, 0.5],\n",
    "                [0.3, -0.4, 2.2]], dtype=torch.float32)\n",
    "y = torch.tensor([[2.0],\n",
    "                [-0.5],\n",
    "                [1.2],\n",
    "                [0.7],\n",
    "                [1.8]], dtype=torch.float32)"
   ]
  },
  {
   "cell_type": "code",
   "execution_count": 129,
   "metadata": {},
   "outputs": [],
   "source": [
    "# Define the linear regression model\n",
    "class LinearRegressionModel(nn.Module):\n",
    "    def __init__(self):\n",
    "        super(LinearRegressionModel, self).__init__()\n",
    "        # Single linear layer with 3 inputs and 1 output\n",
    "        self.linear = nn.Linear(3, 1)\n",
    "\n",
    "    def forward(self, x):\n",
    "        return self.linear(x)\n",
    "\n",
    "\n",
    "# Initialize model, loss function, and optimizer\n",
    "model = LinearRegressionModel()\n",
    "criterion = nn.MSELoss()\n",
    "optimizer = optim.SGD(model.parameters(), lr=0.001)"
   ]
  },
  {
   "cell_type": "code",
   "execution_count": 130,
   "metadata": {},
   "outputs": [
    {
     "name": "stdout",
     "output_type": "stream",
     "text": [
      "Epoch [100/1000], Loss: 1.0008\n",
      "Epoch [200/1000], Loss: 0.7201\n",
      "Epoch [300/1000], Loss: 0.5588\n",
      "Epoch [400/1000], Loss: 0.4565\n",
      "Epoch [500/1000], Loss: 0.3891\n",
      "Epoch [600/1000], Loss: 0.3437\n",
      "Epoch [700/1000], Loss: 0.3123\n",
      "Epoch [800/1000], Loss: 0.2900\n",
      "Epoch [900/1000], Loss: 0.2736\n",
      "Epoch [1000/1000], Loss: 0.2611\n"
     ]
    }
   ],
   "source": [
    "num_epochs = 1000\n",
    "for epoch in range(num_epochs):\n",
    "    # Forward pass: Compute predicted y by passing x to the model\n",
    "    predictions = model(X)\n",
    "    \n",
    "    # Compute the loss\n",
    "    loss = criterion(predictions, y)\n",
    "    \n",
    "    # Zero gradients, perform a backward pass, and update weights\n",
    "    optimizer.zero_grad()\n",
    "    loss.backward()\n",
    "    optimizer.step()\n",
    "    \n",
    "    # Print loss every 100 epochs\n",
    "    if (epoch+1) % 100 == 0:\n",
    "        print(f'Epoch [{epoch+1}/{num_epochs}], Loss: {loss.item():.4f}')\n"
   ]
  },
  {
   "cell_type": "code",
   "execution_count": 131,
   "metadata": {},
   "outputs": [
    {
     "name": "stdout",
     "output_type": "stream",
     "text": [
      "\n",
      "Learned parameters (weights and bias):\n",
      "linear.weight tensor([[0.0633, 0.3001, 0.4854]])\n",
      "linear.bias tensor([0.5954])\n"
     ]
    }
   ],
   "source": [
    "print(\"\\nLearned parameters (weights and bias):\")\n",
    "for name, param in model.named_parameters():\n",
    "    print(name, param.data)"
   ]
  }
 ],
 "metadata": {
  "kernelspec": {
   "display_name": "Python 3",
   "language": "python",
   "name": "python3"
  },
  "language_info": {
   "codemirror_mode": {
    "name": "ipython",
    "version": 3
   },
   "file_extension": ".py",
   "mimetype": "text/x-python",
   "name": "python",
   "nbconvert_exporter": "python",
   "pygments_lexer": "ipython3",
   "version": "3.12.7"
  }
 },
 "nbformat": 4,
 "nbformat_minor": 2
}
